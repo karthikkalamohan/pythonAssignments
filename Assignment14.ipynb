{
 "cells": [
  {
   "cell_type": "code",
   "execution_count": null,
   "metadata": {},
   "outputs": [],
   "source": [
    "#1Class with a generator which can iterate the numbers, which are divisble by 7 , between a given range 0 and n\n",
    "class Generator7:\n",
    "    def generatorIterator(min=0, max=0):\n",
    "        n = 1\n",
    "        while min < max:\n",
    "            if min % 7 == 0:\n",
    "                yield min\n",
    "            min += 1\n",
    "\n",
    "def execute():\n",
    "    number=Generator7.generatorIterator(10,30)\n",
    "    for i in number:\n",
    "        print(i)\n",
    "execute()"
   ]
  },
  {
   "cell_type": "code",
   "execution_count": 10,
   "metadata": {},
   "outputs": [
    {
     "name": "stdout",
     "output_type": "stream",
     "text": [
      "[('2', 2), ('3', 1), ('3?', 1), ('New', 1), ('Python', 5), ('Read', 1), ('and', 1), ('between', 1), ('choosing', 1), ('or', 2), ('to', 1)]\n"
     ]
    }
   ],
   "source": [
    "#2Compute the frequency of the words from the input\n",
    "input =\"New to Python or choosing between Python 2 and Python 3? Read Python 2 or Python 3\"\n",
    "splitStr=input.split(' ')\n",
    "wordCounter=dict()\n",
    "for str in splitStr:\n",
    "    count=1;\n",
    "    if str in wordCounter:\n",
    "        count = wordCounter[str]\n",
    "        wordCounter[str]=count+1\n",
    "    else:\n",
    "        wordCounter[str]=count\n",
    "#sort the keys\n",
    "print(sorted(wordCounter.items() ,key=lambda key: key[0]))"
   ]
  },
  {
   "cell_type": "code",
   "execution_count": null,
   "metadata": {},
   "outputs": [],
   "source": [
    "#3Define a class Person and its two child classes: Male and Female. All classes have a\n",
    "#method &quot;getGender&quot; which can print &quot;Male&quot; for Male class and &quot;Female&quot; for Female class.\n",
    "\n",
    "class Person(object):\n",
    "    # Constructor\n",
    "    def __init__(self, gender):\n",
    "        self.gender = gender\n",
    "\n",
    "    def getGender(self):\n",
    "        if isinstance(self.gender,Female):\n",
    "            Female.femaleGender(self)\n",
    "        else:\n",
    "            Male.maleGender(self)\n",
    "\n",
    "\n",
    "class Male(object):\n",
    "    def maleGender(self):\n",
    "        print(\"Male gender\")\n",
    "class Female():\n",
    "\n",
    "    def femaleGender(self):\n",
    "        print(\"Female gender\")\n",
    "\n",
    "\n",
    "#test code\n",
    "female = Female()\n",
    "male = Male()\n",
    "person = Person(male)\n",
    "person.getGender()\n",
    "person = Person(female)\n",
    "person.getGender()"
   ]
  },
  {
   "cell_type": "code",
   "execution_count": 45,
   "metadata": {},
   "outputs": [
    {
     "name": "stdout",
     "output_type": "stream",
     "text": [
      " I Play Hockey\n",
      " I Play Football\n",
      " I Love Hockey\n",
      " I Love Football\n",
      " You Play Hockey\n",
      " You Play Football\n",
      " You Love Hockey\n",
      " You Love Football\n"
     ]
    }
   ],
   "source": [
    "#4 .Please write a program to generate all sentences where subject is in [&quot;I&quot;, &quot;You&quot;] and\n",
    "#verb is in [&quot;Play&quot;, &quot;Love&quot;] and the object is in [&quot;Hockey&quot;,&quot;Football&quot;].\n",
    "\n",
    "def generateSentence(wordsList, result=\"\", n=0):\n",
    " \n",
    "    # traverse the list\n",
    "    if n == len(wordsList):\n",
    "        print(result)\n",
    "        return\n",
    " \n",
    "    # iterate each word in  the current list\n",
    "    for word in wordsList[n]:\n",
    "        output = result + \" \" + word              \n",
    "        generateSentence(wordsList, output, n + 1)     \n",
    "\n",
    "subject=[\"I\",\"You\"]\n",
    "verb=[\"Play\",\"Love\"]\n",
    "obj=[\"Hockey\",\"Football\"]\n",
    "allWords=[subject,verb,obj]\n",
    "\n",
    "###execute the method recursively\n",
    "generateSentence(allWords)\n",
    "\n",
    "#referred"
   ]
  },
  {
   "cell_type": "code",
   "execution_count": 49,
   "metadata": {},
   "outputs": [
    {
     "name": "stdout",
     "output_type": "stream",
     "text": [
      "b'x\\x9c\\xcbH\\xcd\\xc9\\xc9W(\\xcf/\\xcaIQ\\xcc \\x82\\r\\x00\\xbd[\\x11\\xf5'\n",
      "b'hello world!hello world!hello world!hello world!'\n"
     ]
    }
   ],
   "source": [
    "#5 program to compress and decompress string \n",
    "import zlib\n",
    "text=\"hello world!hello world!hello world!hello world!\"\n",
    "strCompress=zlib.compress(text.encode())\n",
    "print(compress)\n",
    "decompress=zlib.decompress(strCompress)\n",
    "print(decompress)\n"
   ]
  },
  {
   "cell_type": "code",
   "execution_count": null,
   "metadata": {},
   "outputs": [],
   "source": [
    "#6write a binary search function which searches an item in a sorted list. The\n",
    "#function should return the index of element to be searched in the list.\n",
    "\n",
    "#Divide the list and search\n",
    "\n",
    "num = [1, 2, 3, 4, 5, 6, 8]\n",
    "split = len(num) // 2\n",
    "searchNum = 3\n",
    "lowIndex = 0\n",
    "highIndex = 0\n",
    "\n",
    "if num[split] > searchNum:\n",
    "    lowIndex = 0\n",
    "    highIndex = split - 1\n",
    "else:\n",
    "    lowIndex = split\n",
    "    highIndex = len(num)\n",
    "\n",
    "while lowIndex <= highIndex:\n",
    "    if num[lowIndex] == searchNum:\n",
    "        print(\"Element found in index \" , lowIndex)\n",
    "        break\n",
    "    else:\n",
    "        lowIndex += 1\n",
    " \n"
   ]
  }
 ],
 "metadata": {
  "kernelspec": {
   "display_name": "Python 3",
   "language": "python",
   "name": "python3"
  },
  "language_info": {
   "codemirror_mode": {
    "name": "ipython",
    "version": 3
   },
   "file_extension": ".py",
   "mimetype": "text/x-python",
   "name": "python",
   "nbconvert_exporter": "python",
   "pygments_lexer": "ipython3",
   "version": "3.8.5"
  }
 },
 "nbformat": 4,
 "nbformat_minor": 4
}
