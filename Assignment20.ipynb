{
 "cells": [
  {
   "cell_type": "code",
   "execution_count": 1,
   "metadata": {},
   "outputs": [
    {
     "data": {
      "text/plain": [
       "'This is a test of the emergency text system,'"
      ]
     },
     "execution_count": 1,
     "metadata": {},
     "output_type": "execute_result"
    }
   ],
   "source": [
    "#1.Set the variable test1 to the string &#39;This is a test of the emergency text system,&#39; and save test1 to a\n",
    "#file named test.txt.\n",
    "test1='This is a test of the emergency text system,'\n",
    "test1"
   ]
  },
  {
   "cell_type": "code",
   "execution_count": 4,
   "metadata": {},
   "outputs": [
    {
     "name": "stdout",
     "output_type": "stream",
     "text": [
      "This is a test of the emergency text system,\n"
     ]
    }
   ],
   "source": [
    "output_file = open(\"test.txt\", \"w\")\n",
    "output_file.write(test1)\n",
    "output_file.close()"
   ]
  },
  {
   "cell_type": "code",
   "execution_count": 19,
   "metadata": {},
   "outputs": [
    {
     "name": "stdout",
     "output_type": "stream",
     "text": [
      "Content of file => This is a test of the emergency text system,\n",
      "test1 and test2 string are equal\n"
     ]
    }
   ],
   "source": [
    "#2. Read the contents of the file test.txt into the string test2. Is there a difference between test 1 and\n",
    "#test 2?\n",
    "output_file = open(\"test.txt\", \"r\")\n",
    "test2=output_file.read()\n",
    "output_file.close()\n",
    "print(\"Content of file =>\",test2)\n",
    "if test1 == test2:\n",
    "    print(\"test1 and test2 string are equal\")\n",
    "else:\n",
    "    print(\"test1 and test2 are not equal\")"
   ]
  },
  {
   "cell_type": "code",
   "execution_count": 20,
   "metadata": {},
   "outputs": [
    {
     "data": {
      "text/plain": [
       "'Lynne Truss, \"Eats, Shoots, and Leaves\" author, book J R R Tolkien, \"The Hobbit\" Lynne Truss, \"Eats, Shoots, and Leaves\"'"
      ]
     },
     "execution_count": 20,
     "metadata": {},
     "output_type": "execute_result"
    }
   ],
   "source": [
    "#3. Create a file called books.csv with these text lines. You must surround a field with quotes if it includes a comma if the fields are separated by commas.\n",
    "#Lynne Truss, \"Eats, Shoots, and Leaves\" author, book J R R Tolkien, \"The Hobbit\" Lynne Truss, \"Eats, Shoots, and Leaves\"\n",
    "text='Lynne Truss, \"Eats, Shoots, and Leaves\" author, book J R R Tolkien, \"The Hobbit\" Lynne Truss, \"Eats, Shoots, and Leaves\"'\n",
    "text"
   ]
  },
  {
   "cell_type": "code",
   "execution_count": null,
   "metadata": {},
   "outputs": [],
   "source": []
  }
 ],
 "metadata": {
  "kernelspec": {
   "display_name": "Python 3",
   "language": "python",
   "name": "python3"
  },
  "language_info": {
   "codemirror_mode": {
    "name": "ipython",
    "version": 3
   },
   "file_extension": ".py",
   "mimetype": "text/x-python",
   "name": "python",
   "nbconvert_exporter": "python",
   "pygments_lexer": "ipython3",
   "version": "3.8.5"
  }
 },
 "nbformat": 4,
 "nbformat_minor": 4
}
