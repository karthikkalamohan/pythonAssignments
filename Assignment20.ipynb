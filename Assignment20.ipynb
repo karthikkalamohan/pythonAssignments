{
 "cells": [
  {
   "cell_type": "code",
   "execution_count": 1,
   "metadata": {},
   "outputs": [
    {
     "data": {
      "text/plain": [
       "'This is a test of the emergency text system,'"
      ]
     },
     "execution_count": 1,
     "metadata": {},
     "output_type": "execute_result"
    }
   ],
   "source": [
    "#1.Set the variable test1 to the string &#39;This is a test of the emergency text system,&#39; and save test1 to a\n",
    "#file named test.txt.\n",
    "test1='This is a test of the emergency text system,'\n",
    "test1"
   ]
  },
  {
   "cell_type": "code",
   "execution_count": 4,
   "metadata": {},
   "outputs": [
    {
     "name": "stdout",
     "output_type": "stream",
     "text": [
      "This is a test of the emergency text system,\n"
     ]
    }
   ],
   "source": [
    "output_file = open(\"test.txt\", \"w\")\n",
    "output_file.write(test1)\n",
    "output_file.close()"
   ]
  },
  {
   "cell_type": "code",
   "execution_count": 19,
   "metadata": {},
   "outputs": [
    {
     "name": "stdout",
     "output_type": "stream",
     "text": [
      "Content of file => This is a test of the emergency text system,\n",
      "test1 and test2 string are equal\n"
     ]
    }
   ],
   "source": [
    "#2. Read the contents of the file test.txt into the string test2. Is there a difference between test 1 and\n",
    "#test 2?\n",
    "output_file = open(\"test.txt\", \"r\")\n",
    "test2=output_file.read()\n",
    "output_file.close()\n",
    "print(\"Content of file =>\",test2)\n",
    "if test1 == test2:\n",
    "    print(\"test1 and test2 string are equal\")\n",
    "else:\n",
    "    print(\"test1 and test2 are not equal\")"
   ]
  },
  {
   "cell_type": "code",
   "execution_count": 20,
   "metadata": {},
   "outputs": [
    {
     "data": {
      "text/plain": [
       "'Lynne Truss, \"Eats, Shoots, and Leaves\" author, book J R R Tolkien, \"The Hobbit\" Lynne Truss, \"Eats, Shoots, and Leaves\"'"
      ]
     },
     "execution_count": 20,
     "metadata": {},
     "output_type": "execute_result"
    }
   ],
   "source": [
    "#3. Create a file called books.csv with these text lines. You must surround a field with quotes if it includes a comma if the fields are separated by commas.\n",
    "#Lynne Truss, \"Eats, Shoots, and Leaves\" author, book J R R Tolkien, \"The Hobbit\" Lynne Truss, \"Eats, Shoots, and Leaves\"\n",
    "text='Lynne Truss, \"Eats, Shoots, and Leaves\" author, book J R R Tolkien, \"The Hobbit\" Lynne Truss, \"Eats, Shoots, and Leaves\"'\n",
    "text"
   ]
  },
  {
   "cell_type": "code",
   "execution_count": 2,
   "metadata": {},
   "outputs": [
    {
     "name": "stdout",
     "output_type": "stream",
     "text": [
      "['Lynne Truss', ' \"Eats', ' Shoots', ' and Leaves\" author', ' book J R R Tolkien', ' \"The Hobbit\" Lynne Truss', ' \"Eats', ' Shoots', ' and Leaves\"']\n"
     ]
    }
   ],
   "source": [
    "#import csv\n",
    "with open('books.csv', 'r') as file:\n",
    "    reader = csv.reader(file)\n",
    "    for row in reader:\n",
    "        print(row)"
   ]
  },
  {
   "cell_type": "code",
   "execution_count": 12,
   "metadata": {},
   "outputs": [
    {
     "name": "stdout",
     "output_type": "stream",
     "text": [
      "from list  ['Lynne Truss, \"Eats, Shoots, and Leaves\" author, book J R R Tolkien, \"The Hobbit\" Lynne Truss, \"Eats, Shoots, and Leaves\"']\n"
     ]
    }
   ],
   "source": [
    "#4. To read books, use the csv module and its DictReader tool.\n",
    "#To the variable books, add a csv file. In books, print the ideals. Was DictReader able to manage the quotes and commas in the title of the second book?\n",
    "with open(\"books.csv\", 'r') as f:\n",
    "    reader = csv.DictReader(f)\n",
    "    data = list(f)\n",
    "    print(\"from list \", data)\n",
    "    for row in reader:\n",
    "        print(\"from dict reader \",row)"
   ]
  },
  {
   "cell_type": "code",
   "execution_count": 16,
   "metadata": {},
   "outputs": [
    {
     "name": "stdout",
     "output_type": "stream",
     "text": [
      "Alan Garner  The Weirdstone of Brisingamen  1960\n",
      "China MiÃ©ville  Perdido Street Station  2000\n",
      "thump! None None\n",
      "Terry Pratchett published his first novel  Terry Pratchett  in 2005.\n",
      "Lisa Lutz's The Spellman Files was published in 2007. None None\n",
      "Terry Pratchett's Small Gods was published in 1992. None None\n"
     ]
    }
   ],
   "source": [
    "#5. Use the following lines to build a CSV file called books.csv:\n",
    "with open(\"books.csv\", 'r') as f:\n",
    "    reader = csv.DictReader(f)\n",
    "    for row in reader:\n",
    "        print(row['writer'], row[' title'],row[' and year'])"
   ]
  },
  {
   "cell_type": "code",
   "execution_count": 27,
   "metadata": {},
   "outputs": [
    {
     "name": "stdout",
     "output_type": "stream",
     "text": [
      "Opened database successfully\n"
     ]
    },
    {
     "ename": "OperationalError",
     "evalue": "table books already exists",
     "output_type": "error",
     "traceback": [
      "\u001b[1;31m---------------------------------------------------------------------------\u001b[0m",
      "\u001b[1;31mOperationalError\u001b[0m                          Traceback (most recent call last)",
      "\u001b[1;32m<ipython-input-27-7babd654e8be>\u001b[0m in \u001b[0;36m<module>\u001b[1;34m\u001b[0m\n\u001b[0;32m      3\u001b[0m \u001b[0mconn\u001b[0m \u001b[1;33m=\u001b[0m \u001b[0msqlite3\u001b[0m\u001b[1;33m.\u001b[0m\u001b[0mconnect\u001b[0m\u001b[1;33m(\u001b[0m\u001b[1;34m'books.db'\u001b[0m\u001b[1;33m)\u001b[0m\u001b[1;33m\u001b[0m\u001b[1;33m\u001b[0m\u001b[0m\n\u001b[0;32m      4\u001b[0m \u001b[0mprint\u001b[0m\u001b[1;33m(\u001b[0m\u001b[1;34m\"Opened database successfully\"\u001b[0m\u001b[1;33m)\u001b[0m\u001b[1;33m\u001b[0m\u001b[1;33m\u001b[0m\u001b[0m\n\u001b[1;32m----> 5\u001b[1;33m conn.execute('''CREATE TABLE books\n\u001b[0m\u001b[0;32m      6\u001b[0m          (TITLE           TEXT    NOT NULL,\n\u001b[0;32m      7\u001b[0m          \u001b[0mAUTHOR\u001b[0m          \u001b[0mTEXT\u001b[0m     \u001b[0mNOT\u001b[0m \u001b[0mNULL\u001b[0m\u001b[1;33m,\u001b[0m\u001b[1;33m\u001b[0m\u001b[1;33m\u001b[0m\u001b[0m\n",
      "\u001b[1;31mOperationalError\u001b[0m: table books already exists"
     ]
    }
   ],
   "source": [
    "#6. Build a SQLite database called books.db and a table called books with the fields title (text), author (text), and year using the sqlite3 module (integer).\n",
    "import sqlite3\n",
    "conn = sqlite3.connect('books.db')\n",
    "print(\"Opened database successfully\")\n",
    "\n",
    "conn.execute('''CREATE TABLE books\n",
    "         (TITLE           TEXT    NOT NULL,\n",
    "         AUTHOR          TEXT     NOT NULL,\n",
    "         YEAR        INT);''')\n",
    "print(\"Table created successfully\")"
   ]
  },
  {
   "cell_type": "code",
   "execution_count": 45,
   "metadata": {},
   "outputs": [
    {
     "name": "stdout",
     "output_type": "stream",
     "text": [
      "Table created successfully\n"
     ]
    }
   ],
   "source": [
    "conn.execute('''CREATE TABLE books\n",
    "         (TITLE           TEXT    NULL,\n",
    "         AUTHOR          TEXT     NULL,\n",
    "         YEAR        INT NULL);''')\n",
    "print(\"Table created successfully\")"
   ]
  },
  {
   "cell_type": "code",
   "execution_count": 53,
   "metadata": {},
   "outputs": [
    {
     "name": "stdout",
     "output_type": "stream",
     "text": [
      "[(' The Weirdstone of Brisingamen', 'Alan Garner', 1960), (' Perdido Street Station', 'China MiÃ©ville', 2000), (None, 'thump!', None), (' Terry Pratchett', 'Terry Pratchett published his first novel', ' in 2005.'), (None, \"Lisa Lutz's The Spellman Files was published in 2007.\", None), (None, \"Terry Pratchett's Small Gods was published in 1992.\", None)]\n"
     ]
    }
   ],
   "source": [
    "#7. Read the data from books.csv into the book table.\n",
    "#reading the rows from the csv and adding to list.\n",
    "import csv\n",
    "import sqlite3\n",
    "\n",
    "#con = sqlite3.connect(\"books.db\")\n",
    "cur = con.cursor()\n",
    "\n",
    "with open('books.csv', 'r') as f:\n",
    "    dr = csv.DictReader(f)\n",
    "    to_db = [(i['writer'], i['title'], i['and year']) for i in dr]\n",
    "\n",
    "cur.executemany(\"INSERT INTO books (author, title,`year`) VALUES (?, ? ,?);\", to_db)\n",
    "#cur.execute(\"DELETE FROM books;\")\n",
    "cur.execute(\"SELECT * FROM books;\")\n",
    "print(cur.fetchall())\n",
    "con.commit()\n",
    "con.close()"
   ]
  },
  {
   "cell_type": "code",
   "execution_count": 56,
   "metadata": {},
   "outputs": [
    {
     "name": "stdout",
     "output_type": "stream",
     "text": [
      "[(None,), (None,), (None,), (' Perdido Street Station',), (' Terry Pratchett',), (' The Weirdstone of Brisingamen',)]\n"
     ]
    }
   ],
   "source": [
    "#8. From the book table, select and print the title column in alphabetical order.\n",
    "con = sqlite3.connect(\"books.db\")\n",
    "cur = con.cursor()\n",
    "\n",
    "#cur.execute(\"DELETE FROM books;\")\n",
    "cur.execute(\"SELECT title FROM books ORDER BY title;\")\n",
    "print(cur.fetchall())\n",
    "con.commit()\n",
    "con.close()"
   ]
  },
  {
   "cell_type": "code",
   "execution_count": 62,
   "metadata": {},
   "outputs": [
    {
     "name": "stdout",
     "output_type": "stream",
     "text": [
      "[('Terry Pratchett published his first novel', ' Terry Pratchett', ' in 2005.'), ('China MiÃ©ville', ' Perdido Street Station', 2000), ('Alan Garner', ' The Weirdstone of Brisingamen', 1960), ('thump!', None, None), (\"Lisa Lutz's The Spellman Files was published in 2007.\", None, None), (\"Terry Pratchett's Small Gods was published in 1992.\", None, None)]\n"
     ]
    }
   ],
   "source": [
    "#9. From the book table, select and print all columns in the order of publication.\n",
    "con = sqlite3.connect(\"books.db\")\n",
    "cur = con.cursor()\n",
    "\n",
    "#cur.execute(\"DELETE FROM books;\")\n",
    "cur.execute(\"SELECT author,title,year FROM books ORDER BY year DESC;\")\n",
    "print(cur.fetchall())\n",
    "con.commit()\n",
    "con.close()"
   ]
  },
  {
   "cell_type": "code",
   "execution_count": 64,
   "metadata": {},
   "outputs": [
    {
     "name": "stdout",
     "output_type": "stream",
     "text": [
      "(None,)\n",
      "(None,)\n",
      "(None,)\n",
      "(' Perdido Street Station',)\n",
      "(' Terry Pratchett',)\n",
      "(' The Weirdstone of Brisingamen',)\n"
     ]
    }
   ],
   "source": [
    "#10. Link to the sqlite3 database books using the sqlalchemy module.\n",
    "from sqlalchemy import create_engine\n",
    "\n",
    "engine = create_engine('sqlite:///books.db')\n",
    "conn = engine.connect()\n",
    "row = engine.execute('SELECT title FROM books ORDER BY title ASC')\n",
    "for val in row:\n",
    "    print(val)\n",
    "# Close connection\n",
    "conn.close()\n",
    "\n"
   ]
  },
  {
   "cell_type": "code",
   "execution_count": 65,
   "metadata": {},
   "outputs": [
    {
     "ename": "ModuleNotFoundError",
     "evalue": "No module named 'redis'",
     "output_type": "error",
     "traceback": [
      "\u001b[1;31m---------------------------------------------------------------------------\u001b[0m",
      "\u001b[1;31mModuleNotFoundError\u001b[0m                       Traceback (most recent call last)",
      "\u001b[1;32m<ipython-input-65-32851437554f>\u001b[0m in \u001b[0;36m<module>\u001b[1;34m\u001b[0m\n\u001b[0;32m      2\u001b[0m \u001b[1;31m#12. Increase the count in the test field and print it.\u001b[0m\u001b[1;33m\u001b[0m\u001b[1;33m\u001b[0m\u001b[1;33m\u001b[0m\u001b[0m\n\u001b[0;32m      3\u001b[0m \u001b[1;33m\u001b[0m\u001b[0m\n\u001b[1;32m----> 4\u001b[1;33m \u001b[1;32mimport\u001b[0m \u001b[0mredis\u001b[0m\u001b[1;33m\u001b[0m\u001b[1;33m\u001b[0m\u001b[0m\n\u001b[0m\u001b[0;32m      5\u001b[0m \u001b[1;33m\u001b[0m\u001b[0m\n\u001b[0;32m      6\u001b[0m \u001b[1;31m# redis configuration\u001b[0m\u001b[1;33m\u001b[0m\u001b[1;33m\u001b[0m\u001b[1;33m\u001b[0m\u001b[0m\n",
      "\u001b[1;31mModuleNotFoundError\u001b[0m: No module named 'redis'"
     ]
    }
   ],
   "source": [
    "#11. On your device, instal the Redis server and the Python redis library (pip instal redis). Create a test Redis hash with the fields count (1) and name ('Fester Bestertester') in it. To try, print all of the fields.\n",
    "#12. Increase the count in the test field and print it.\n",
    "\n",
    "import redis\n",
    "\n",
    "# redis configuration\n",
    "redis_host = \"127.0.0.1\"\n",
    "redis_port = 6379\n",
    "redis_password = \"\"\n",
    "\n",
    "r = redis.StrictRedis(host=redis_host, port=redis_port, password=redis_password, decode_responses=True)\n",
    "\n",
    "r.hset(\"Name\", 1, \"Fester Bestertester\")\n",
    "r.hset(\"Name\", 2, \"test redis\")\n",
    "\n",
    "print(r.hget(\"Name\", 1))\n",
    "print(r.hget(\"Name\", 2))\n",
    "\n",
    "print(r.hgetall(\"Name\"))\n"
   ]
  },
  {
   "cell_type": "code",
   "execution_count": null,
   "metadata": {},
   "outputs": [],
   "source": []
  }
 ],
 "metadata": {
  "kernelspec": {
   "display_name": "Python 3",
   "language": "python",
   "name": "python3"
  },
  "language_info": {
   "codemirror_mode": {
    "name": "ipython",
    "version": 3
   },
   "file_extension": ".py",
   "mimetype": "text/x-python",
   "name": "python",
   "nbconvert_exporter": "python",
   "pygments_lexer": "ipython3",
   "version": "3.8.5"
  }
 },
 "nbformat": 4,
 "nbformat_minor": 4
}
