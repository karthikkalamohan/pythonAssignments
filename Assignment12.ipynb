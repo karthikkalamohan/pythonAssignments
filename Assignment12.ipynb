{
 "cells": [
  {
   "cell_type": "code",
   "execution_count": 29,
   "metadata": {},
   "outputs": [
    {
     "name": "stdout",
     "output_type": "stream",
     "text": [
      "Unique values  ['two', 'three']\n"
     ]
    }
   ],
   "source": [
    "#Extract unique values - dictionary\n",
    "nameRollno={\"no1\":\"one\",\"no2\":\"two\",\"no3\":\"three\",\"no4\":\"one\"}\n",
    "valLst=[]\n",
    "for value in nameRollno.values():\n",
    "    if(value not in valLst):\n",
    "        valLst.append(value)\n",
    "    else:\n",
    "        valLst.remove(value)\n",
    "print(\"Unique values \", valLst)"
   ]
  },
  {
   "cell_type": "code",
   "execution_count": 56,
   "metadata": {},
   "outputs": [
    {
     "name": "stdout",
     "output_type": "stream",
     "text": [
      "240\n"
     ]
    }
   ],
   "source": [
    "#find the Sum of all items in dict\n",
    "rollNoMark={\"1\":55,\"2\":65,\"3\":75,\"4\":45}\n",
    "sum=0\n",
    "for val in rollNoMark.values():\n",
    "    sum+=val\n",
    "print(sum)\n"
   ]
  },
  {
   "cell_type": "code",
   "execution_count": 44,
   "metadata": {},
   "outputs": [
    {
     "data": {
      "text/plain": [
       "{'1': 55,\n",
       " '2': 65,\n",
       " '3': 75,\n",
       " '4': 45,\n",
       " 'no1': 'one',\n",
       " 'no2': 'two',\n",
       " 'no3': 'three',\n",
       " 'no4': 'one'}"
      ]
     },
     "execution_count": 44,
     "metadata": {},
     "output_type": "execute_result"
    }
   ],
   "source": [
    "#Merge 2 dictionary\n",
    "#the dict is merged with second one and the exiting dict is udpated.\n",
    "rollNoMark.update(nameRollno)\n",
    "rollNoMark"
   ]
  },
  {
   "cell_type": "code",
   "execution_count": 64,
   "metadata": {},
   "outputs": [
    {
     "data": {
      "text/plain": [
       "{'one': '1', 'two': '2', 'three': '3'}"
      ]
     },
     "execution_count": 64,
     "metadata": {},
     "output_type": "execute_result"
    }
   ],
   "source": [
    "#convert key values list to flat dictionary\n",
    "kvLst=[\"one:1\",\"two:2\",\"three:3\"]\n",
    "flatDict={}\n",
    "for val in kvLst:\n",
    "    key,value=val.split(':')\n",
    "    flatDict[key]=value\n",
    "flatDict"
   ]
  },
  {
   "cell_type": "code",
   "execution_count": 73,
   "metadata": {},
   "outputs": [
    {
     "name": "stdout",
     "output_type": "stream",
     "text": [
      "OrderedDict([('one', '1'), ('two', '2'), ('three', '3'), ('zero', '0')])\n",
      "Ordered dictionary  OrderedDict([('zero', '0'), ('one', '1'), ('two', '2'), ('three', '3')])\n"
     ]
    }
   ],
   "source": [
    "#Insertion at the begining of the orderedDict\n",
    "from collections import OrderedDict\n",
    "orderDict=OrderedDict(flatDict)\n",
    "orderDict.update({'zero':'0'})\n",
    "orderDict.move_to_end('zero',False)\n",
    "print('Ordered dictionary ',orderDict)"
   ]
  },
  {
   "cell_type": "code",
   "execution_count": 86,
   "metadata": {},
   "outputs": [
    {
     "name": "stdout",
     "output_type": "stream",
     "text": [
      "OrderedDict([(0, 'p'), (1, 'y'), (2, 't'), (3, 'h'), (4, 'o'), (5, 'n'), (6, ' '), (7, 'l'), (8, 'e'), (9, 'a'), (10, 'r'), (11, 'n'), (12, 'i'), (13, 'n'), (14, 'g')])\n"
     ]
    }
   ],
   "source": [
    "#Check order of character in string using Ordereddict()\n",
    "from collections import OrderedDict\n",
    "charDict=OrderedDict()\n",
    "string='python learning'\n",
    "key=0\n",
    "for c in string:\n",
    "    charDict[key]=c\n",
    "    key+=1\n",
    "for key,val in charDict.items():\n",
    "    if string[key] != val:\n",
    "        print('characters are not in same order')\n",
    "        break"
   ]
  },
  {
   "cell_type": "code",
   "execution_count": 98,
   "metadata": {},
   "outputs": [
    {
     "name": "stdout",
     "output_type": "stream",
     "text": [
      "Key sorted  [('five', 5), ('four', 4), ('one', 1), ('three', 3), ('two', 2)]\n",
      "value sorted  [('one', 1), ('two', 2), ('three', 3), ('four', 4), ('five', 5)]\n"
     ]
    }
   ],
   "source": [
    "#Sort python dictionaries by key or value\n",
    "dictionary = {'one':1,'three':3,'five':5,'two':2,'four':4}\n",
    "#sort by key\n",
    "sortedKey = sorted(d.items(), key=lambda x: x[0]) \n",
    "print(\"Key sorted \" , sortedKey)\n",
    "#sort by value\n",
    "sortedValue = sorted(d.items(), key=lambda x: x[1])   \n",
    "print(\"value sorted \" , sortedValue)\n"
   ]
  },
  {
   "cell_type": "code",
   "execution_count": null,
   "metadata": {},
   "outputs": [],
   "source": []
  }
 ],
 "metadata": {
  "kernelspec": {
   "display_name": "Python 3",
   "language": "python",
   "name": "python3"
  },
  "language_info": {
   "codemirror_mode": {
    "name": "ipython",
    "version": 3
   },
   "file_extension": ".py",
   "mimetype": "text/x-python",
   "name": "python",
   "nbconvert_exporter": "python",
   "pygments_lexer": "ipython3",
   "version": "3.8.5"
  }
 },
 "nbformat": 4,
 "nbformat_minor": 4
}
